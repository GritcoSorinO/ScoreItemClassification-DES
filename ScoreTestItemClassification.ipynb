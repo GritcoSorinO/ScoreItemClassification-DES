{
  "nbformat": 4,
  "nbformat_minor": 0,
  "metadata": {
    "colab": {
      "provenance": []
    },
    "kernelspec": {
      "name": "python3",
      "display_name": "Python 3"
    },
    "language_info": {
      "name": "python"
    },
    "accelerator": "GPU",
    "gpuClass": "standard"
  },
  "cells": [
    {
      "cell_type": "markdown",
      "source": [
        "### Implementation\n"
      ],
      "metadata": {
        "id": "oEY0CqkmODQu"
      }
    },
    {
      "cell_type": "markdown",
      "source": [
        "#### Import libraries\n"
      ],
      "metadata": {
        "id": "sYHJr1dzOH8G"
      }
    },
    {
      "cell_type": "code",
      "source": [
        "import os\n",
        "import numpy as np\n",
        "import pandas as pd\n",
        "import tensorflow as tf"
      ],
      "metadata": {
        "id": "oZdtHTqRNYzu"
      },
      "execution_count": 3,
      "outputs": []
    },
    {
      "cell_type": "code",
      "source": [
        "!pwd"
      ],
      "metadata": {
        "id": "MP_uHLH0bZEU",
        "colab": {
          "base_uri": "https://localhost:8080/"
        },
        "outputId": "af5cce92-978c-4d3d-dad4-d5972e3369f8"
      },
      "execution_count": null,
      "outputs": [
        {
          "output_type": "stream",
          "name": "stdout",
          "text": [
            "/content/drive/MyDrive/ColabNotebooks/DES\n"
          ]
        }
      ]
    },
    {
      "cell_type": "code",
      "source": [
        "%rm -rf ScoreTestItemClassification-1/"
      ],
      "metadata": {
        "id": "bKrj5pUkba8d"
      },
      "execution_count": null,
      "outputs": []
    },
    {
      "cell_type": "markdown",
      "source": [
        "#### Preping the Data"
      ],
      "metadata": {
        "id": "YDtAa5l_ONo8"
      }
    },
    {
      "cell_type": "code",
      "source": [
        "!pip install roboflow\n",
        "\n",
        "from roboflow import Roboflow\n",
        "rf = Roboflow(api_key=\"\")\n",
        "project = rf.workspace(\"soringritco\").project(\"scoretestitemclassification\")\n",
        "dataset = project.version(1).download(\"yolov5\")"
      ],
      "metadata": {
        "id": "OvDi1GbwOLqF"
      },
      "execution_count": null,
      "outputs": []
    },
    {
      "cell_type": "code",
      "source": [
        "import cv2\n",
        "import os\n",
        "import shutil\n",
        "\n",
        "def crop_images(path, path_out):\n",
        "    path_images = os.path.join(path, 'images')\n",
        "    path_labels = os.path.join(path, 'labels')\n",
        "\n",
        "    print(path_out)\n",
        "    if os.path.exists(path_out) == True:\n",
        "      shutil.rmtree(path_out)\n",
        "    \n",
        "    if os.path.exists(path_out) == False:\n",
        "      os.makedirs(path_out)\n",
        "\n",
        "    for root, dirs, files in os.walk(path_images):\n",
        "      for file in files:\n",
        "        image_path = os.path.join(path_images, file)\n",
        "        filename_without_ext = os.path.splitext(file)[0] \n",
        "        label_path = os.path.join(path_labels, filename_without_ext)\n",
        "        label_path = label_path + '.txt'\n",
        "\n",
        "        image = cv2.imread(image_path)\n",
        "        dh, dw, _ = image.shape\n",
        "\n",
        "        file_labels = open(label_path, 'r')\n",
        "        boxes = file_labels.readlines()\n",
        "\n",
        "        counter = 0\n",
        "        for box in boxes:\n",
        "          class_id, x_center, y_center, w, h = box.strip().split()\n",
        "          x_center, y_center, w, h = float(x_center), float(y_center), float(w), float(h)\n",
        "          x_center = round(x_center * dw)\n",
        "          y_center = round(y_center * dh)\n",
        "          w = round(w * dw)\n",
        "          h = round(h * dh)\n",
        "          x = round(x_center - w / 2)\n",
        "          y = round(y_center - h / 2)\n",
        "\n",
        "          counter += 1\n",
        "          image_crop = image[y:y + h, x:x + w]\n",
        "\n",
        "          separator = '_'\n",
        "\n",
        "          image_filename = '_'.join(filename_without_ext.split('_')[0:2]) \n",
        "          \n",
        "          image_filename = str(class_id)+'_'+image_filename + '_' + str(counter).zfill(4) + '.jpg'\n",
        "          print(image_filename)\n",
        "          cv2.imwrite(os.path.join(path_out, image_filename), image_crop)\n",
        "\n",
        "    "
      ],
      "metadata": {
        "id": "ZHuZFp_ib6g0"
      },
      "execution_count": null,
      "outputs": []
    },
    {
      "cell_type": "code",
      "source": [
        "path = 'ScoreTestItemClassification-1/train'\n",
        "path_out = 'datasets/ScoreTestItemClassificationCropped/train'\n",
        "crop_images(path=path, path_out=path_out)"
      ],
      "metadata": {
        "id": "9Zeu2vh3M0O1"
      },
      "execution_count": null,
      "outputs": []
    },
    {
      "cell_type": "code",
      "source": [
        "path = 'ScoreTestItemClassification-1/valid'\n",
        "path_out = 'datasets/ScoreTestItemClassificationCropped/valid'\n",
        "crop_images(path=path, path_out=path_out)\n",
        "\n",
        "# path = 'ScoreTestItemClassification-1/test'\n",
        "# path_out = 'datasets/ScoreTestItemClassificationCropped/test'\n",
        "# crop_images(path=path, path_out=path_out)"
      ],
      "metadata": {
        "id": "zvCaYVKFN9Gz"
      },
      "execution_count": null,
      "outputs": []
    },
    {
      "cell_type": "code",
      "source": [
        "def prepare_df(dataset_type):\n",
        "    X = []\n",
        "    y = []\n",
        "    path = 'datasets/ScoreTestItemClassificationCropped/' + dataset_type + '/'\n",
        "\n",
        "    for i in os.listdir(path):\n",
        "        # Image\n",
        "        X.append(i)\n",
        "        # Label\n",
        "        if i.split('_')[0] == '7':\n",
        "          y.append('L')\n",
        "        else: \n",
        "          y.append(i.split('_')[0])\n",
        "\n",
        "    X = np.array(X)\n",
        "    y = np.array(y)\n",
        "\n",
        "    df = pd.DataFrame()\n",
        "    df['filename'] = X\n",
        "    df['label'] = y\n",
        "\n",
        "    return df "
      ],
      "metadata": {
        "id": "MKgJJxroC8wc"
      },
      "execution_count": 4,
      "outputs": []
    },
    {
      "cell_type": "code",
      "source": [
        "df_train = prepare_df('train')\n",
        "df_valid = prepare_df('valid')\n",
        "# df_test = prepare_df('test')"
      ],
      "metadata": {
        "id": "Fg56JlyDLUXi"
      },
      "execution_count": 5,
      "outputs": []
    },
    {
      "cell_type": "code",
      "source": [
        "df_valid.head(5)"
      ],
      "metadata": {
        "id": "GHoJOSZefHtz",
        "colab": {
          "base_uri": "https://localhost:8080/",
          "height": 206
        },
        "outputId": "935bc6fd-9c4e-49c2-e7ef-179e41dc358d"
      },
      "execution_count": 6,
      "outputs": [
        {
          "output_type": "execute_result",
          "data": {
            "text/plain": [
              "                     filename label\n",
              "0  4_20201104_175035_0001.jpg     4\n",
              "1  0_20201104_175035_0002.jpg     0\n",
              "2  1_20201104_175035_0003.jpg     1\n",
              "3  2_20201104_175035_0004.jpg     2\n",
              "4  0_20201104_175035_0005.jpg     0"
            ],
            "text/html": [
              "\n",
              "  <div id=\"df-1f4eab68-d87c-479f-855c-4262c062c89d\">\n",
              "    <div class=\"colab-df-container\">\n",
              "      <div>\n",
              "<style scoped>\n",
              "    .dataframe tbody tr th:only-of-type {\n",
              "        vertical-align: middle;\n",
              "    }\n",
              "\n",
              "    .dataframe tbody tr th {\n",
              "        vertical-align: top;\n",
              "    }\n",
              "\n",
              "    .dataframe thead th {\n",
              "        text-align: right;\n",
              "    }\n",
              "</style>\n",
              "<table border=\"1\" class=\"dataframe\">\n",
              "  <thead>\n",
              "    <tr style=\"text-align: right;\">\n",
              "      <th></th>\n",
              "      <th>filename</th>\n",
              "      <th>label</th>\n",
              "    </tr>\n",
              "  </thead>\n",
              "  <tbody>\n",
              "    <tr>\n",
              "      <th>0</th>\n",
              "      <td>4_20201104_175035_0001.jpg</td>\n",
              "      <td>4</td>\n",
              "    </tr>\n",
              "    <tr>\n",
              "      <th>1</th>\n",
              "      <td>0_20201104_175035_0002.jpg</td>\n",
              "      <td>0</td>\n",
              "    </tr>\n",
              "    <tr>\n",
              "      <th>2</th>\n",
              "      <td>1_20201104_175035_0003.jpg</td>\n",
              "      <td>1</td>\n",
              "    </tr>\n",
              "    <tr>\n",
              "      <th>3</th>\n",
              "      <td>2_20201104_175035_0004.jpg</td>\n",
              "      <td>2</td>\n",
              "    </tr>\n",
              "    <tr>\n",
              "      <th>4</th>\n",
              "      <td>0_20201104_175035_0005.jpg</td>\n",
              "      <td>0</td>\n",
              "    </tr>\n",
              "  </tbody>\n",
              "</table>\n",
              "</div>\n",
              "      <button class=\"colab-df-convert\" onclick=\"convertToInteractive('df-1f4eab68-d87c-479f-855c-4262c062c89d')\"\n",
              "              title=\"Convert this dataframe to an interactive table.\"\n",
              "              style=\"display:none;\">\n",
              "        \n",
              "  <svg xmlns=\"http://www.w3.org/2000/svg\" height=\"24px\"viewBox=\"0 0 24 24\"\n",
              "       width=\"24px\">\n",
              "    <path d=\"M0 0h24v24H0V0z\" fill=\"none\"/>\n",
              "    <path d=\"M18.56 5.44l.94 2.06.94-2.06 2.06-.94-2.06-.94-.94-2.06-.94 2.06-2.06.94zm-11 1L8.5 8.5l.94-2.06 2.06-.94-2.06-.94L8.5 2.5l-.94 2.06-2.06.94zm10 10l.94 2.06.94-2.06 2.06-.94-2.06-.94-.94-2.06-.94 2.06-2.06.94z\"/><path d=\"M17.41 7.96l-1.37-1.37c-.4-.4-.92-.59-1.43-.59-.52 0-1.04.2-1.43.59L10.3 9.45l-7.72 7.72c-.78.78-.78 2.05 0 2.83L4 21.41c.39.39.9.59 1.41.59.51 0 1.02-.2 1.41-.59l7.78-7.78 2.81-2.81c.8-.78.8-2.07 0-2.86zM5.41 20L4 18.59l7.72-7.72 1.47 1.35L5.41 20z\"/>\n",
              "  </svg>\n",
              "      </button>\n",
              "      \n",
              "  <style>\n",
              "    .colab-df-container {\n",
              "      display:flex;\n",
              "      flex-wrap:wrap;\n",
              "      gap: 12px;\n",
              "    }\n",
              "\n",
              "    .colab-df-convert {\n",
              "      background-color: #E8F0FE;\n",
              "      border: none;\n",
              "      border-radius: 50%;\n",
              "      cursor: pointer;\n",
              "      display: none;\n",
              "      fill: #1967D2;\n",
              "      height: 32px;\n",
              "      padding: 0 0 0 0;\n",
              "      width: 32px;\n",
              "    }\n",
              "\n",
              "    .colab-df-convert:hover {\n",
              "      background-color: #E2EBFA;\n",
              "      box-shadow: 0px 1px 2px rgba(60, 64, 67, 0.3), 0px 1px 3px 1px rgba(60, 64, 67, 0.15);\n",
              "      fill: #174EA6;\n",
              "    }\n",
              "\n",
              "    [theme=dark] .colab-df-convert {\n",
              "      background-color: #3B4455;\n",
              "      fill: #D2E3FC;\n",
              "    }\n",
              "\n",
              "    [theme=dark] .colab-df-convert:hover {\n",
              "      background-color: #434B5C;\n",
              "      box-shadow: 0px 1px 3px 1px rgba(0, 0, 0, 0.15);\n",
              "      filter: drop-shadow(0px 1px 2px rgba(0, 0, 0, 0.3));\n",
              "      fill: #FFFFFF;\n",
              "    }\n",
              "  </style>\n",
              "\n",
              "      <script>\n",
              "        const buttonEl =\n",
              "          document.querySelector('#df-1f4eab68-d87c-479f-855c-4262c062c89d button.colab-df-convert');\n",
              "        buttonEl.style.display =\n",
              "          google.colab.kernel.accessAllowed ? 'block' : 'none';\n",
              "\n",
              "        async function convertToInteractive(key) {\n",
              "          const element = document.querySelector('#df-1f4eab68-d87c-479f-855c-4262c062c89d');\n",
              "          const dataTable =\n",
              "            await google.colab.kernel.invokeFunction('convertToInteractive',\n",
              "                                                     [key], {});\n",
              "          if (!dataTable) return;\n",
              "\n",
              "          const docLinkHtml = 'Like what you see? Visit the ' +\n",
              "            '<a target=\"_blank\" href=https://colab.research.google.com/notebooks/data_table.ipynb>data table notebook</a>'\n",
              "            + ' to learn more about interactive tables.';\n",
              "          element.innerHTML = '';\n",
              "          dataTable['output_type'] = 'display_data';\n",
              "          await google.colab.output.renderOutput(dataTable, element);\n",
              "          const docLink = document.createElement('div');\n",
              "          docLink.innerHTML = docLinkHtml;\n",
              "          element.appendChild(docLink);\n",
              "        }\n",
              "      </script>\n",
              "    </div>\n",
              "  </div>\n",
              "  "
            ]
          },
          "metadata": {},
          "execution_count": 6
        }
      ]
    },
    {
      "cell_type": "code",
      "source": [
        "df_train.head(5)"
      ],
      "metadata": {
        "id": "oD8IWy7sTjPH",
        "colab": {
          "base_uri": "https://localhost:8080/",
          "height": 206
        },
        "outputId": "b8fde294-6b4f-4918-ea73-f4d9940f563d"
      },
      "execution_count": 7,
      "outputs": [
        {
          "output_type": "execute_result",
          "data": {
            "text/plain": [
              "                     filename label\n",
              "0  4_20201104_175012_0001.jpg     4\n",
              "1  0_20201104_175012_0002.jpg     0\n",
              "2  0_20201104_175012_0003.jpg     0\n",
              "3  4_20201104_175012_0004.jpg     4\n",
              "4  4_20201104_175012_0005.jpg     4"
            ],
            "text/html": [
              "\n",
              "  <div id=\"df-481827b4-a61a-4124-8beb-058e6560d167\">\n",
              "    <div class=\"colab-df-container\">\n",
              "      <div>\n",
              "<style scoped>\n",
              "    .dataframe tbody tr th:only-of-type {\n",
              "        vertical-align: middle;\n",
              "    }\n",
              "\n",
              "    .dataframe tbody tr th {\n",
              "        vertical-align: top;\n",
              "    }\n",
              "\n",
              "    .dataframe thead th {\n",
              "        text-align: right;\n",
              "    }\n",
              "</style>\n",
              "<table border=\"1\" class=\"dataframe\">\n",
              "  <thead>\n",
              "    <tr style=\"text-align: right;\">\n",
              "      <th></th>\n",
              "      <th>filename</th>\n",
              "      <th>label</th>\n",
              "    </tr>\n",
              "  </thead>\n",
              "  <tbody>\n",
              "    <tr>\n",
              "      <th>0</th>\n",
              "      <td>4_20201104_175012_0001.jpg</td>\n",
              "      <td>4</td>\n",
              "    </tr>\n",
              "    <tr>\n",
              "      <th>1</th>\n",
              "      <td>0_20201104_175012_0002.jpg</td>\n",
              "      <td>0</td>\n",
              "    </tr>\n",
              "    <tr>\n",
              "      <th>2</th>\n",
              "      <td>0_20201104_175012_0003.jpg</td>\n",
              "      <td>0</td>\n",
              "    </tr>\n",
              "    <tr>\n",
              "      <th>3</th>\n",
              "      <td>4_20201104_175012_0004.jpg</td>\n",
              "      <td>4</td>\n",
              "    </tr>\n",
              "    <tr>\n",
              "      <th>4</th>\n",
              "      <td>4_20201104_175012_0005.jpg</td>\n",
              "      <td>4</td>\n",
              "    </tr>\n",
              "  </tbody>\n",
              "</table>\n",
              "</div>\n",
              "      <button class=\"colab-df-convert\" onclick=\"convertToInteractive('df-481827b4-a61a-4124-8beb-058e6560d167')\"\n",
              "              title=\"Convert this dataframe to an interactive table.\"\n",
              "              style=\"display:none;\">\n",
              "        \n",
              "  <svg xmlns=\"http://www.w3.org/2000/svg\" height=\"24px\"viewBox=\"0 0 24 24\"\n",
              "       width=\"24px\">\n",
              "    <path d=\"M0 0h24v24H0V0z\" fill=\"none\"/>\n",
              "    <path d=\"M18.56 5.44l.94 2.06.94-2.06 2.06-.94-2.06-.94-.94-2.06-.94 2.06-2.06.94zm-11 1L8.5 8.5l.94-2.06 2.06-.94-2.06-.94L8.5 2.5l-.94 2.06-2.06.94zm10 10l.94 2.06.94-2.06 2.06-.94-2.06-.94-.94-2.06-.94 2.06-2.06.94z\"/><path d=\"M17.41 7.96l-1.37-1.37c-.4-.4-.92-.59-1.43-.59-.52 0-1.04.2-1.43.59L10.3 9.45l-7.72 7.72c-.78.78-.78 2.05 0 2.83L4 21.41c.39.39.9.59 1.41.59.51 0 1.02-.2 1.41-.59l7.78-7.78 2.81-2.81c.8-.78.8-2.07 0-2.86zM5.41 20L4 18.59l7.72-7.72 1.47 1.35L5.41 20z\"/>\n",
              "  </svg>\n",
              "      </button>\n",
              "      \n",
              "  <style>\n",
              "    .colab-df-container {\n",
              "      display:flex;\n",
              "      flex-wrap:wrap;\n",
              "      gap: 12px;\n",
              "    }\n",
              "\n",
              "    .colab-df-convert {\n",
              "      background-color: #E8F0FE;\n",
              "      border: none;\n",
              "      border-radius: 50%;\n",
              "      cursor: pointer;\n",
              "      display: none;\n",
              "      fill: #1967D2;\n",
              "      height: 32px;\n",
              "      padding: 0 0 0 0;\n",
              "      width: 32px;\n",
              "    }\n",
              "\n",
              "    .colab-df-convert:hover {\n",
              "      background-color: #E2EBFA;\n",
              "      box-shadow: 0px 1px 2px rgba(60, 64, 67, 0.3), 0px 1px 3px 1px rgba(60, 64, 67, 0.15);\n",
              "      fill: #174EA6;\n",
              "    }\n",
              "\n",
              "    [theme=dark] .colab-df-convert {\n",
              "      background-color: #3B4455;\n",
              "      fill: #D2E3FC;\n",
              "    }\n",
              "\n",
              "    [theme=dark] .colab-df-convert:hover {\n",
              "      background-color: #434B5C;\n",
              "      box-shadow: 0px 1px 3px 1px rgba(0, 0, 0, 0.15);\n",
              "      filter: drop-shadow(0px 1px 2px rgba(0, 0, 0, 0.3));\n",
              "      fill: #FFFFFF;\n",
              "    }\n",
              "  </style>\n",
              "\n",
              "      <script>\n",
              "        const buttonEl =\n",
              "          document.querySelector('#df-481827b4-a61a-4124-8beb-058e6560d167 button.colab-df-convert');\n",
              "        buttonEl.style.display =\n",
              "          google.colab.kernel.accessAllowed ? 'block' : 'none';\n",
              "\n",
              "        async function convertToInteractive(key) {\n",
              "          const element = document.querySelector('#df-481827b4-a61a-4124-8beb-058e6560d167');\n",
              "          const dataTable =\n",
              "            await google.colab.kernel.invokeFunction('convertToInteractive',\n",
              "                                                     [key], {});\n",
              "          if (!dataTable) return;\n",
              "\n",
              "          const docLinkHtml = 'Like what you see? Visit the ' +\n",
              "            '<a target=\"_blank\" href=https://colab.research.google.com/notebooks/data_table.ipynb>data table notebook</a>'\n",
              "            + ' to learn more about interactive tables.';\n",
              "          element.innerHTML = '';\n",
              "          dataTable['output_type'] = 'display_data';\n",
              "          await google.colab.output.renderOutput(dataTable, element);\n",
              "          const docLink = document.createElement('div');\n",
              "          docLink.innerHTML = docLinkHtml;\n",
              "          element.appendChild(docLink);\n",
              "        }\n",
              "      </script>\n",
              "    </div>\n",
              "  </div>\n",
              "  "
            ]
          },
          "metadata": {},
          "execution_count": 7
        }
      ]
    },
    {
      "cell_type": "code",
      "source": [
        "from tensorflow.keras.preprocessing.image import ImageDataGenerator\n",
        "\n",
        "# Create the ImageDataGenerator object\n",
        "train_datagen = ImageDataGenerator(\n",
        "    featurewise_center=True,\n",
        "    featurewise_std_normalization=True,\n",
        "    rotation_range=20,\n",
        "    width_shift_range=0.1,\n",
        "    height_shift_range=0.1,\n",
        "    horizontal_flip=False\n",
        ")\n",
        "\n",
        "valid_datagen = ImageDataGenerator(\n",
        "    featurewise_center=True,\n",
        "    featurewise_std_normalization=True,\n",
        "    rotation_range=20,\n",
        "    width_shift_range=0.1,\n",
        "    height_shift_range=0.1,\n",
        "    horizontal_flip=False\n",
        ") \n",
        "\n",
        "# Generate batches and augment the images\n",
        "train_generator = train_datagen.flow_from_dataframe(\n",
        "    df_train,\n",
        "    directory='datasets/ScoreTestItemClassificationCropped/train/',\n",
        "    x_col='filename',\n",
        "    y_col='label',\n",
        "    class_mode='categorical',\n",
        "    target_size=(224, 224),\n",
        ")\n",
        "\n",
        "valid_generator = train_datagen.flow_from_dataframe(\n",
        "    df_valid,\n",
        "    directory='datasets/ScoreTestItemClassificationCropped/valid/',\n",
        "    x_col='filename',\n",
        "    y_col='label',\n",
        "    class_mode='categorical',\n",
        "    target_size=(224, 224),\n",
        ")"
      ],
      "metadata": {
        "id": "ZzjAHUpAWKhX",
        "colab": {
          "base_uri": "https://localhost:8080/"
        },
        "outputId": "5f2f89c1-8444-4340-b2b2-b7d30a931cd6"
      },
      "execution_count": null,
      "outputs": [
        {
          "output_type": "stream",
          "name": "stdout",
          "text": [
            "Found 98 validated image filenames belonging to 8 classes.\n",
            "Found 21 validated image filenames belonging to 6 classes.\n"
          ]
        }
      ]
    },
    {
      "cell_type": "code",
      "source": [
        "from tensorflow.keras.applications import ResNet50\n",
        "\n",
        "# Initialize the Pretrained Model\n",
        "feature_extractor = ResNet50(weights='imagenet', \n",
        "                             input_shape=(224, 224, 3),\n",
        "                             include_top=False)\n",
        "\n",
        "# Set this parameter to make sure it's not being trained\n",
        "feature_extractor.trainable = False\n",
        "\n",
        "# Set the input layer\n",
        "input_ = tf.keras.Input(shape=(224, 224, 3))\n",
        "\n",
        "# Set the feature extractor layer\n",
        "x = feature_extractor(input_, training=False)\n",
        "\n",
        "# Set the pooling layer\n",
        "x = tf.keras.layers.GlobalAveragePooling2D()(x)\n",
        "\n",
        "# Set the final layer with sigmoid activation function\n",
        "output_ = tf.keras.layers.Dense(8, activation='sigmoid')(x)\n",
        "\n",
        "# Create the new model object\n",
        "model = tf.keras.Model(input_, output_)\n",
        "\n",
        "# Compile it\n",
        "model.compile(optimizer='adam',\n",
        "             loss='categorical_crossentropy',\n",
        "             metrics=['accuracy'])\n",
        "\n",
        "# Print The Summary of The Model\n",
        "model.summary()"
      ],
      "metadata": {
        "id": "ltUCzC9eZnmJ",
        "colab": {
          "base_uri": "https://localhost:8080/"
        },
        "outputId": "d7f52d55-5257-4518-b611-c838e09097f3"
      },
      "execution_count": null,
      "outputs": [
        {
          "output_type": "stream",
          "name": "stdout",
          "text": [
            "Downloading data from https://storage.googleapis.com/tensorflow/keras-applications/resnet/resnet50_weights_tf_dim_ordering_tf_kernels_notop.h5\n",
            "94765736/94765736 [==============================] - 3s 0us/step\n",
            "Model: \"model\"\n",
            "_________________________________________________________________\n",
            " Layer (type)                Output Shape              Param #   \n",
            "=================================================================\n",
            " input_2 (InputLayer)        [(None, 224, 224, 3)]     0         \n",
            "                                                                 \n",
            " resnet50 (Functional)       (None, 7, 7, 2048)        23587712  \n",
            "                                                                 \n",
            " global_average_pooling2d (G  (None, 2048)             0         \n",
            " lobalAveragePooling2D)                                          \n",
            "                                                                 \n",
            " dense (Dense)               (None, 8)                 16392     \n",
            "                                                                 \n",
            "=================================================================\n",
            "Total params: 23,604,104\n",
            "Trainable params: 16,392\n",
            "Non-trainable params: 23,587,712\n",
            "_________________________________________________________________\n"
          ]
        }
      ]
    },
    {
      "cell_type": "code",
      "source": [
        "model.fit(train_generator, epochs=100, validation_data=valid_generator)"
      ],
      "metadata": {
        "id": "9kRb_Fkpbafu",
        "colab": {
          "base_uri": "https://localhost:8080/"
        },
        "outputId": "0f0447a2-0a9d-43e0-aa89-9906ac4b06b7"
      },
      "execution_count": null,
      "outputs": [
        {
          "output_type": "stream",
          "name": "stdout",
          "text": [
            "Epoch 1/100\n",
            "3/3 [==============================] - 6s 1s/step - loss: 3.0629 - accuracy: 0.1979 - val_loss: 2.7811 - val_accuracy: 0.1304\n",
            "Epoch 2/100\n",
            "3/3 [==============================] - 2s 603ms/step - loss: 2.2431 - accuracy: 0.1667 - val_loss: 2.2276 - val_accuracy: 0.2609\n",
            "Epoch 3/100\n",
            "3/3 [==============================] - 2s 612ms/step - loss: 1.8599 - accuracy: 0.3125 - val_loss: 2.1471 - val_accuracy: 0.2609\n",
            "Epoch 4/100\n",
            "3/3 [==============================] - 2s 613ms/step - loss: 1.9372 - accuracy: 0.2292 - val_loss: 2.1688 - val_accuracy: 0.3043\n",
            "Epoch 5/100\n",
            "3/3 [==============================] - 2s 587ms/step - loss: 1.6892 - accuracy: 0.2917 - val_loss: 1.9208 - val_accuracy: 0.3478\n",
            "Epoch 6/100\n",
            "3/3 [==============================] - 2s 609ms/step - loss: 1.4893 - accuracy: 0.3854 - val_loss: 2.1328 - val_accuracy: 0.3043\n",
            "Epoch 7/100\n",
            "3/3 [==============================] - 2s 604ms/step - loss: 1.4384 - accuracy: 0.4271 - val_loss: 1.9983 - val_accuracy: 0.4348\n",
            "Epoch 8/100\n",
            "3/3 [==============================] - 2s 613ms/step - loss: 1.3653 - accuracy: 0.5417 - val_loss: 1.8527 - val_accuracy: 0.3913\n",
            "Epoch 9/100\n",
            "3/3 [==============================] - 2s 621ms/step - loss: 1.3143 - accuracy: 0.5938 - val_loss: 1.8964 - val_accuracy: 0.4348\n",
            "Epoch 10/100\n",
            "3/3 [==============================] - 2s 610ms/step - loss: 1.2563 - accuracy: 0.5521 - val_loss: 1.7301 - val_accuracy: 0.4348\n",
            "Epoch 11/100\n",
            "3/3 [==============================] - 2s 601ms/step - loss: 1.2152 - accuracy: 0.5938 - val_loss: 1.6152 - val_accuracy: 0.5217\n",
            "Epoch 12/100\n",
            "3/3 [==============================] - 2s 603ms/step - loss: 1.1277 - accuracy: 0.6042 - val_loss: 1.7174 - val_accuracy: 0.5652\n",
            "Epoch 13/100\n",
            "3/3 [==============================] - 2s 602ms/step - loss: 1.0816 - accuracy: 0.6667 - val_loss: 1.7098 - val_accuracy: 0.4348\n",
            "Epoch 14/100\n",
            "3/3 [==============================] - 2s 581ms/step - loss: 1.0744 - accuracy: 0.6042 - val_loss: 1.7718 - val_accuracy: 0.5217\n",
            "Epoch 15/100\n",
            "3/3 [==============================] - 2s 600ms/step - loss: 1.0110 - accuracy: 0.6458 - val_loss: 1.6546 - val_accuracy: 0.4783\n",
            "Epoch 16/100\n",
            "3/3 [==============================] - 2s 580ms/step - loss: 0.9593 - accuracy: 0.6771 - val_loss: 1.6663 - val_accuracy: 0.5217\n",
            "Epoch 17/100\n",
            "3/3 [==============================] - 2s 576ms/step - loss: 0.9707 - accuracy: 0.7292 - val_loss: 1.7129 - val_accuracy: 0.5217\n",
            "Epoch 18/100\n",
            "3/3 [==============================] - 2s 602ms/step - loss: 0.9097 - accuracy: 0.7083 - val_loss: 1.5909 - val_accuracy: 0.5217\n",
            "Epoch 19/100\n",
            "3/3 [==============================] - 2s 598ms/step - loss: 0.8914 - accuracy: 0.7396 - val_loss: 1.8194 - val_accuracy: 0.4783\n",
            "Epoch 20/100\n",
            "3/3 [==============================] - 2s 575ms/step - loss: 0.8790 - accuracy: 0.7396 - val_loss: 1.6175 - val_accuracy: 0.5652\n",
            "Epoch 21/100\n",
            "3/3 [==============================] - 2s 584ms/step - loss: 0.8107 - accuracy: 0.7812 - val_loss: 1.5763 - val_accuracy: 0.6087\n",
            "Epoch 22/100\n",
            "3/3 [==============================] - 2s 591ms/step - loss: 0.7832 - accuracy: 0.7708 - val_loss: 1.7410 - val_accuracy: 0.5652\n",
            "Epoch 23/100\n",
            "3/3 [==============================] - 2s 595ms/step - loss: 0.7837 - accuracy: 0.7708 - val_loss: 1.7082 - val_accuracy: 0.5652\n",
            "Epoch 24/100\n",
            "3/3 [==============================] - 2s 605ms/step - loss: 0.7707 - accuracy: 0.8333 - val_loss: 1.5263 - val_accuracy: 0.6087\n",
            "Epoch 25/100\n",
            "3/3 [==============================] - 2s 584ms/step - loss: 0.7123 - accuracy: 0.8333 - val_loss: 1.6917 - val_accuracy: 0.5217\n",
            "Epoch 26/100\n",
            "3/3 [==============================] - 2s 593ms/step - loss: 0.7421 - accuracy: 0.8125 - val_loss: 1.6416 - val_accuracy: 0.4348\n",
            "Epoch 27/100\n",
            "3/3 [==============================] - 2s 606ms/step - loss: 0.6938 - accuracy: 0.8021 - val_loss: 1.5602 - val_accuracy: 0.6522\n",
            "Epoch 28/100\n",
            "3/3 [==============================] - 2s 588ms/step - loss: 0.6738 - accuracy: 0.8438 - val_loss: 1.5805 - val_accuracy: 0.6522\n",
            "Epoch 29/100\n",
            "3/3 [==============================] - 2s 572ms/step - loss: 0.7034 - accuracy: 0.8229 - val_loss: 1.7483 - val_accuracy: 0.4783\n",
            "Epoch 30/100\n",
            "3/3 [==============================] - 2s 583ms/step - loss: 0.6674 - accuracy: 0.7917 - val_loss: 1.4918 - val_accuracy: 0.6522\n",
            "Epoch 31/100\n",
            "3/3 [==============================] - 2s 576ms/step - loss: 0.6830 - accuracy: 0.8646 - val_loss: 1.5432 - val_accuracy: 0.6522\n",
            "Epoch 32/100\n",
            "3/3 [==============================] - 2s 587ms/step - loss: 0.6354 - accuracy: 0.8333 - val_loss: 1.6519 - val_accuracy: 0.6957\n",
            "Epoch 33/100\n",
            "3/3 [==============================] - 2s 594ms/step - loss: 0.6379 - accuracy: 0.8542 - val_loss: 1.6262 - val_accuracy: 0.6087\n",
            "Epoch 34/100\n",
            "3/3 [==============================] - 2s 587ms/step - loss: 0.6160 - accuracy: 0.8542 - val_loss: 1.4575 - val_accuracy: 0.6522\n",
            "Epoch 35/100\n",
            "3/3 [==============================] - 2s 594ms/step - loss: 0.5845 - accuracy: 0.8854 - val_loss: 1.6994 - val_accuracy: 0.6087\n",
            "Epoch 36/100\n",
            "3/3 [==============================] - 2s 592ms/step - loss: 0.5885 - accuracy: 0.8438 - val_loss: 1.6236 - val_accuracy: 0.6087\n",
            "Epoch 37/100\n",
            "3/3 [==============================] - 2s 603ms/step - loss: 0.6046 - accuracy: 0.8438 - val_loss: 1.5454 - val_accuracy: 0.5652\n",
            "Epoch 38/100\n",
            "3/3 [==============================] - 2s 616ms/step - loss: 0.5215 - accuracy: 0.8958 - val_loss: 1.8163 - val_accuracy: 0.5217\n",
            "Epoch 39/100\n",
            "3/3 [==============================] - 2s 590ms/step - loss: 0.5545 - accuracy: 0.9062 - val_loss: 1.3688 - val_accuracy: 0.6957\n",
            "Epoch 40/100\n",
            "3/3 [==============================] - 2s 592ms/step - loss: 0.5586 - accuracy: 0.8646 - val_loss: 1.5273 - val_accuracy: 0.6087\n",
            "Epoch 41/100\n",
            "3/3 [==============================] - 2s 605ms/step - loss: 0.4874 - accuracy: 0.9271 - val_loss: 1.4125 - val_accuracy: 0.5217\n",
            "Epoch 42/100\n",
            "3/3 [==============================] - 2s 604ms/step - loss: 0.5217 - accuracy: 0.9062 - val_loss: 1.4383 - val_accuracy: 0.4783\n",
            "Epoch 43/100\n",
            "3/3 [==============================] - 2s 596ms/step - loss: 0.5282 - accuracy: 0.9062 - val_loss: 1.5362 - val_accuracy: 0.6087\n",
            "Epoch 44/100\n",
            "3/3 [==============================] - 3s 1s/step - loss: 0.5146 - accuracy: 0.8542 - val_loss: 1.4433 - val_accuracy: 0.6522\n",
            "Epoch 45/100\n",
            "3/3 [==============================] - 2s 763ms/step - loss: 0.4610 - accuracy: 0.8958 - val_loss: 1.5395 - val_accuracy: 0.6087\n",
            "Epoch 46/100\n",
            "3/3 [==============================] - 2s 588ms/step - loss: 0.4501 - accuracy: 0.9375 - val_loss: 1.5579 - val_accuracy: 0.6087\n",
            "Epoch 47/100\n",
            "3/3 [==============================] - 2s 588ms/step - loss: 0.4774 - accuracy: 0.8750 - val_loss: 1.5580 - val_accuracy: 0.5652\n",
            "Epoch 48/100\n",
            "3/3 [==============================] - 2s 593ms/step - loss: 0.4326 - accuracy: 0.9375 - val_loss: 1.3725 - val_accuracy: 0.6087\n",
            "Epoch 49/100\n",
            "3/3 [==============================] - 2s 591ms/step - loss: 0.4373 - accuracy: 0.9375 - val_loss: 1.5205 - val_accuracy: 0.6087\n",
            "Epoch 50/100\n",
            "3/3 [==============================] - 2s 589ms/step - loss: 0.4135 - accuracy: 0.9583 - val_loss: 1.5635 - val_accuracy: 0.6087\n",
            "Epoch 51/100\n",
            "3/3 [==============================] - 2s 593ms/step - loss: 0.4288 - accuracy: 0.9271 - val_loss: 1.4066 - val_accuracy: 0.6522\n",
            "Epoch 52/100\n",
            "3/3 [==============================] - 2s 581ms/step - loss: 0.4543 - accuracy: 0.8958 - val_loss: 1.4409 - val_accuracy: 0.5652\n",
            "Epoch 53/100\n",
            "3/3 [==============================] - 2s 591ms/step - loss: 0.4344 - accuracy: 0.9062 - val_loss: 1.4801 - val_accuracy: 0.6522\n",
            "Epoch 54/100\n",
            "3/3 [==============================] - 2s 597ms/step - loss: 0.3859 - accuracy: 0.9167 - val_loss: 1.4449 - val_accuracy: 0.6522\n",
            "Epoch 55/100\n",
            "3/3 [==============================] - 2s 583ms/step - loss: 0.3676 - accuracy: 0.9896 - val_loss: 1.6673 - val_accuracy: 0.6522\n",
            "Epoch 56/100\n",
            "3/3 [==============================] - 2s 575ms/step - loss: 0.3616 - accuracy: 0.9271 - val_loss: 1.4991 - val_accuracy: 0.6087\n",
            "Epoch 57/100\n",
            "3/3 [==============================] - 2s 592ms/step - loss: 0.3664 - accuracy: 0.9375 - val_loss: 1.4820 - val_accuracy: 0.6957\n",
            "Epoch 58/100\n",
            "3/3 [==============================] - 2s 582ms/step - loss: 0.3654 - accuracy: 0.9375 - val_loss: 1.5424 - val_accuracy: 0.6522\n",
            "Epoch 59/100\n",
            "3/3 [==============================] - 2s 576ms/step - loss: 0.3626 - accuracy: 0.9688 - val_loss: 1.5129 - val_accuracy: 0.6087\n",
            "Epoch 60/100\n",
            "3/3 [==============================] - 2s 616ms/step - loss: 0.3884 - accuracy: 0.9479 - val_loss: 1.4603 - val_accuracy: 0.6522\n",
            "Epoch 61/100\n",
            "3/3 [==============================] - 2s 599ms/step - loss: 0.3904 - accuracy: 0.9167 - val_loss: 1.6631 - val_accuracy: 0.6087\n",
            "Epoch 62/100\n",
            "3/3 [==============================] - 2s 601ms/step - loss: 0.3427 - accuracy: 0.9375 - val_loss: 1.4609 - val_accuracy: 0.6087\n",
            "Epoch 63/100\n",
            "3/3 [==============================] - 2s 622ms/step - loss: 0.3392 - accuracy: 0.9375 - val_loss: 1.6075 - val_accuracy: 0.5652\n",
            "Epoch 64/100\n",
            "3/3 [==============================] - 2s 620ms/step - loss: 0.3513 - accuracy: 0.9688 - val_loss: 1.6070 - val_accuracy: 0.6522\n",
            "Epoch 65/100\n",
            "3/3 [==============================] - 2s 604ms/step - loss: 0.3066 - accuracy: 0.9583 - val_loss: 1.5127 - val_accuracy: 0.6087\n",
            "Epoch 66/100\n",
            "3/3 [==============================] - 2s 621ms/step - loss: 0.3332 - accuracy: 0.9167 - val_loss: 1.4551 - val_accuracy: 0.6522\n",
            "Epoch 67/100\n",
            "3/3 [==============================] - 2s 614ms/step - loss: 0.3320 - accuracy: 0.9479 - val_loss: 1.5958 - val_accuracy: 0.5217\n",
            "Epoch 68/100\n",
            "3/3 [==============================] - 2s 615ms/step - loss: 0.3279 - accuracy: 0.9583 - val_loss: 1.5006 - val_accuracy: 0.5652\n",
            "Epoch 69/100\n",
            "3/3 [==============================] - 2s 597ms/step - loss: 0.3304 - accuracy: 0.9583 - val_loss: 1.3555 - val_accuracy: 0.6522\n",
            "Epoch 70/100\n",
            "3/3 [==============================] - 2s 599ms/step - loss: 0.2955 - accuracy: 0.9792 - val_loss: 1.3987 - val_accuracy: 0.5652\n",
            "Epoch 71/100\n",
            "3/3 [==============================] - 2s 585ms/step - loss: 0.3198 - accuracy: 0.9479 - val_loss: 1.4148 - val_accuracy: 0.6087\n",
            "Epoch 72/100\n",
            "3/3 [==============================] - 2s 587ms/step - loss: 0.3271 - accuracy: 0.9583 - val_loss: 1.3700 - val_accuracy: 0.6522\n",
            "Epoch 73/100\n",
            "3/3 [==============================] - 2s 600ms/step - loss: 0.2994 - accuracy: 0.9688 - val_loss: 1.5926 - val_accuracy: 0.6087\n",
            "Epoch 74/100\n",
            "3/3 [==============================] - 2s 594ms/step - loss: 0.2794 - accuracy: 0.9792 - val_loss: 1.4044 - val_accuracy: 0.6522\n",
            "Epoch 75/100\n",
            "3/3 [==============================] - 2s 583ms/step - loss: 0.2787 - accuracy: 0.9583 - val_loss: 1.4734 - val_accuracy: 0.6957\n",
            "Epoch 76/100\n",
            "3/3 [==============================] - 2s 596ms/step - loss: 0.2613 - accuracy: 0.9792 - val_loss: 1.4884 - val_accuracy: 0.5652\n",
            "Epoch 77/100\n",
            "3/3 [==============================] - 2s 611ms/step - loss: 0.2968 - accuracy: 0.9688 - val_loss: 1.4223 - val_accuracy: 0.6522\n",
            "Epoch 78/100\n",
            "3/3 [==============================] - 2s 587ms/step - loss: 0.2886 - accuracy: 0.9583 - val_loss: 1.4341 - val_accuracy: 0.5652\n",
            "Epoch 79/100\n",
            "3/3 [==============================] - 2s 594ms/step - loss: 0.3138 - accuracy: 0.9375 - val_loss: 1.4547 - val_accuracy: 0.6957\n",
            "Epoch 80/100\n",
            "3/3 [==============================] - 2s 607ms/step - loss: 0.3128 - accuracy: 0.9792 - val_loss: 1.4635 - val_accuracy: 0.6522\n",
            "Epoch 81/100\n",
            "3/3 [==============================] - 2s 609ms/step - loss: 0.2471 - accuracy: 0.9792 - val_loss: 1.4172 - val_accuracy: 0.6522\n",
            "Epoch 82/100\n",
            "3/3 [==============================] - 2s 590ms/step - loss: 0.2455 - accuracy: 0.9271 - val_loss: 1.4406 - val_accuracy: 0.6087\n",
            "Epoch 83/100\n",
            "3/3 [==============================] - 2s 598ms/step - loss: 0.2727 - accuracy: 0.9896 - val_loss: 1.6710 - val_accuracy: 0.5652\n",
            "Epoch 84/100\n",
            "3/3 [==============================] - 2s 584ms/step - loss: 0.2854 - accuracy: 0.9688 - val_loss: 1.5156 - val_accuracy: 0.6522\n",
            "Epoch 85/100\n",
            "3/3 [==============================] - 2s 588ms/step - loss: 0.2657 - accuracy: 0.9479 - val_loss: 1.5535 - val_accuracy: 0.6957\n",
            "Epoch 86/100\n",
            "3/3 [==============================] - 2s 605ms/step - loss: 0.2707 - accuracy: 0.9792 - val_loss: 1.5144 - val_accuracy: 0.6087\n",
            "Epoch 87/100\n",
            "3/3 [==============================] - 2s 583ms/step - loss: 0.2190 - accuracy: 0.9896 - val_loss: 1.5058 - val_accuracy: 0.5652\n",
            "Epoch 88/100\n",
            "3/3 [==============================] - 2s 583ms/step - loss: 0.2430 - accuracy: 0.9688 - val_loss: 1.4335 - val_accuracy: 0.6087\n",
            "Epoch 89/100\n",
            "3/3 [==============================] - 2s 583ms/step - loss: 0.2135 - accuracy: 0.9896 - val_loss: 1.4762 - val_accuracy: 0.6522\n",
            "Epoch 90/100\n",
            "3/3 [==============================] - 2s 574ms/step - loss: 0.2365 - accuracy: 0.9479 - val_loss: 1.5084 - val_accuracy: 0.6087\n",
            "Epoch 91/100\n",
            "3/3 [==============================] - 2s 591ms/step - loss: 0.2661 - accuracy: 0.9583 - val_loss: 1.5420 - val_accuracy: 0.6087\n",
            "Epoch 92/100\n",
            "3/3 [==============================] - 2s 586ms/step - loss: 0.2202 - accuracy: 0.9792 - val_loss: 1.6141 - val_accuracy: 0.6087\n",
            "Epoch 93/100\n",
            "3/3 [==============================] - 2s 587ms/step - loss: 0.2569 - accuracy: 0.9688 - val_loss: 1.8066 - val_accuracy: 0.6087\n",
            "Epoch 94/100\n",
            "3/3 [==============================] - 2s 588ms/step - loss: 0.2221 - accuracy: 0.9688 - val_loss: 1.4405 - val_accuracy: 0.6087\n",
            "Epoch 95/100\n",
            "3/3 [==============================] - 2s 608ms/step - loss: 0.2372 - accuracy: 0.9792 - val_loss: 1.4584 - val_accuracy: 0.5652\n",
            "Epoch 96/100\n",
            "3/3 [==============================] - 2s 590ms/step - loss: 0.2332 - accuracy: 0.9896 - val_loss: 1.4333 - val_accuracy: 0.6522\n",
            "Epoch 97/100\n",
            "3/3 [==============================] - 2s 578ms/step - loss: 0.2126 - accuracy: 0.9792 - val_loss: 1.4158 - val_accuracy: 0.6957\n",
            "Epoch 98/100\n",
            "3/3 [==============================] - 2s 601ms/step - loss: 0.2533 - accuracy: 0.9688 - val_loss: 1.5128 - val_accuracy: 0.6087\n",
            "Epoch 99/100\n",
            "3/3 [==============================] - 2s 586ms/step - loss: 0.2053 - accuracy: 0.9792 - val_loss: 1.2725 - val_accuracy: 0.6957\n",
            "Epoch 100/100\n",
            "3/3 [==============================] - 2s 587ms/step - loss: 0.2157 - accuracy: 0.9688 - val_loss: 1.4695 - val_accuracy: 0.6522\n"
          ]
        },
        {
          "output_type": "execute_result",
          "data": {
            "text/plain": [
              "<keras.callbacks.History at 0x7f00e4d4e7c0>"
            ]
          },
          "metadata": {},
          "execution_count": 41
        }
      ]
    },
    {
      "cell_type": "code",
      "source": [
        "model.save('./resnet50_scoretestitem')"
      ],
      "metadata": {
        "id": "sAc5cqyReOXe"
      },
      "execution_count": null,
      "outputs": []
    },
    {
      "cell_type": "code",
      "source": [
        "model = tf.keras.models.load_model('resnet50_scoretestitem')"
      ],
      "metadata": {
        "id": "WOonamm48PJ7"
      },
      "execution_count": 8,
      "outputs": []
    },
    {
      "cell_type": "code",
      "source": [
        "from PIL import Image\n",
        "img = Image.open('datasets/ScoreTestItemClassificationCropped/valid/1_20201104_175035_0003.jpg')\n",
        "img = img.resize((224, 224))\n",
        "img\n",
        "\n"
      ],
      "metadata": {
        "id": "JbaSkTaaeedv",
        "colab": {
          "base_uri": "https://localhost:8080/",
          "height": 241
        },
        "outputId": "1ec4251f-4189-48ff-a8ac-1cf513f4d333"
      },
      "execution_count": 11,
      "outputs": [
        {
          "output_type": "execute_result",
          "data": {
            "text/plain": [
              "<PIL.Image.Image image mode=RGB size=224x224 at 0x7F593BE22A10>"
            ],
            "image/png": "[encoded data removed]"
          },
          "metadata": {},
          "execution_count": 11
        }
      ]
    },
    {
      "cell_type": "code",
      "source": [
        "img = np.array(img)\n",
        "img = np.expand_dims(img, 0)\n",
        "\n",
        "class_labels = ['0', '1', '2', '3', '4', '5', '6', 'L']\n",
        "\n",
        "pred = np.argmax(model.predict(img), axis=-1)\n",
        "print(class_labels[pred[0]])"
      ],
      "metadata": {
        "id": "Lrkdmh5mgmFO",
        "colab": {
          "base_uri": "https://localhost:8080/"
        },
        "outputId": "11d8ff44-b83f-446d-de41-921273234d8a"
      },
      "execution_count": 12,
      "outputs": [
        {
          "output_type": "stream",
          "name": "stdout",
          "text": [
            "1/1 [==============================] - 0s 22ms/step\n",
            "1\n"
          ]
        }
      ]
    },
    {
      "cell_type": "markdown",
      "source": [
        "### Creating Gradio Interface"
      ],
      "metadata": {
        "id": "epEpGjVIWa0D"
      }
    },
    {
      "cell_type": "code",
      "source": [
        "from PIL import Image\n",
        "img = Image.open('datasets/ScoreTestItemClassificationCropped/valid/0_20201104_175035_0002.jpg')\n",
        "img = img.resize((224, 224))\n",
        "img\n",
        "\n",
        "\n",
        "def classify_image(img):\n",
        "  ## img = Image.open('datasets/ScoreTestItemClassificationCropped/valid/0_20201104_175035_0002.jpg')\n",
        "  img = img.resize((224, 224))\n",
        "  img = np.array(img)\n",
        "  img = np.expand_dims(img, 0)\n",
        "\n",
        "  class_labels = ['0', '1', '2', '3', '4', '5', '6', 'L']\n",
        "  model = tf.keras.models.load_model('resnet50_scoretestitem')\n",
        "  \n",
        "  prediction = model.predict(img).flatten()\n",
        "  confidences = {class_labels[i]: float(prediction[i]) for i in range(8)}\n",
        "\n",
        "  return confidences"
      ],
      "metadata": {
        "id": "Vy_A7yErWzhD"
      },
      "execution_count": null,
      "outputs": []
    },
    {
      "cell_type": "code",
      "source": [
        "! pip install -q gradio"
      ],
      "metadata": {
        "id": "Bu28xxxQYLGE"
      },
      "execution_count": null,
      "outputs": []
    },
    {
      "cell_type": "code",
      "source": [
        "import gradio as gr\n",
        "\n",
        "gr.Interface(fn=classify_image, \n",
        "             inputs=gr.Image(shape=(224, 224)),\n",
        "             outputs=gr.Label(num_top_classes=3)\n",
        "             ).launch(debug=True)"
      ],
      "metadata": {
        "id": "1lgCo2i2WFhh"
      },
      "execution_count": null,
      "outputs": []
    }
  ]
}